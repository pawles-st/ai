{
 "cells": [
  {
   "cell_type": "code",
   "execution_count": 2,
   "id": "cdd466c9-cca2-4f1c-a073-879d6a4053b5",
   "metadata": {},
   "outputs": [],
   "source": [
    "import numpy as np"
   ]
  },
  {
   "cell_type": "code",
   "execution_count": 32,
   "id": "98c9ceda",
   "metadata": {},
   "outputs": [
    {
     "name": "stdout",
     "output_type": "stream",
     "text": [
      "[(4, 4), (4, 3), (4, 2), (4, 1), (4, 0), (3, 4), (3, 3), (3, 2), (3, 1), (3, 0), (2, 4), (2, 3), (2, 2), (2, 1), (2, 0), (1, 4), (1, 3), (1, 2), (1, 1), (1, 0), (0, 4), (0, 3), (0, 2), (0, 1), (0, 0)]\n"
     ]
    }
   ],
   "source": [
    "board_width = 5\n",
    "board_height = 5\n",
    "board = np.zeros((board_width, board_height), int)\n",
    "\n",
    "def get_empty(board):\n",
    "    empty = []\n",
    "    for column in range(board_height):\n",
    "        for row in range(board_width):\n",
    "            if board[column][row] == 0:\n",
    "                empty.insert(0, (column, row))\n",
    "    return empty\n",
    "\n",
    "def minimax(is_max, board, max_depth, curr_depth = 0):\n",
    "    empty_tiles = get_empty(board)\n",
    "    for tile in empty_tiles:\n",
    "        \n",
    "\n",
    "print(get_empty(board))"
   ]
  }
 ],
 "metadata": {
  "kernelspec": {
   "display_name": "Python 3 (ipykernel)",
   "language": "python",
   "name": "python3"
  },
  "language_info": {
   "codemirror_mode": {
    "name": "ipython",
    "version": 3
   },
   "file_extension": ".py",
   "mimetype": "text/x-python",
   "name": "python",
   "nbconvert_exporter": "python",
   "pygments_lexer": "ipython3",
   "version": "3.10.10"
  }
 },
 "nbformat": 4,
 "nbformat_minor": 5
}
