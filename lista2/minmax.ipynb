{
 "cells": [
  {
   "cell_type": "code",
   "execution_count": 48,
   "id": "cdd466c9-cca2-4f1c-a073-879d6a4053b5",
   "metadata": {},
   "outputs": [],
   "source": [
    "import numpy as np\n",
    "import time"
   ]
  },
  {
   "cell_type": "code",
   "execution_count": null,
   "id": "a909d631",
   "metadata": {
    "scrolled": false
   },
   "outputs": [],
   "source": [
    "# player == 1   ->   max\n",
    "# player == -1   ->   min\n",
    "\n",
    "# game parameters\n",
    "\n",
    "board_width = 5\n",
    "board_height = 5\n",
    "b = np.zeros((board_width, board_height), int)\n",
    "\n",
    "def get_empty(board): # find all empty tile coordinates on the given board and return them\n",
    "    empty = []\n",
    "    for row in range(board_height):\n",
    "        for column in range(board_width):\n",
    "            if board[row][column] == 0: # empty iff tile == 0\n",
    "                empty.insert(0, (row, column))\n",
    "    return empty\n",
    "\n",
    "def calc_heuristic(board): # calculate the heuristic value of the given board\n",
    "    possible_fours = 0\n",
    "    for row in range(0, board_width): # horizontal fours\n",
    "        for column in range(0, board_height - 3):\n",
    "            if board[row][column] == 0 and board[row][column + 1] == 0 and board[row][column + 2] == 0 and board[row][column + 3] == 0:\n",
    "                possible_fours += 1\n",
    "    for row in range(0, board_width - 3): # vertical fours\n",
    "        for column in range(0, board_height):\n",
    "            if board[row][column] == 0 and board[row + 1][column] == 0 and board[row + 2][column] == 0 and board[row + 3][column] == 0:\n",
    "                possible_fours += 1\n",
    "    for row in range(0, board_width - 3): # diagonal fours\n",
    "        for column in range(0, board_height - 3):\n",
    "            if board[row][column] == 0 and board[row + 1][column + 1] == 0 and board[row + 2][column + 2] == 0 and board[row + 3][column + 3] == 0:\n",
    "                possible_fours += 1\n",
    "        for column in range(board_height - 1, 3, -1):\n",
    "            if board[row][column] == 0 and board[row + 1][column - 1] == 0 and board[row + 2][column - 2] == 0 and board[row + 3][column - 3] == 0:\n",
    "                possible_fours += 1\n",
    "    return possible_fours\n",
    "                \n",
    "\n",
    "def minimax(player, board, max_depth, curr_depth = 1): # find the next move on the given board using minimax\n",
    "    \n",
    "    # check recursion depth limit: return heuristic value of the board in the leaf\n",
    "    \n",
    "    if curr_depth == max_depth:\n",
    "        \n",
    "        # find all empty tiles\n",
    "        \n",
    "        empty_tiles = get_empty(board)\n",
    "        move_heuristics = {}\n",
    "        \n",
    "        # calculate heuristic value for all possible moves and pick the optimal\n",
    "        \n",
    "        for tile in empty_tiles:\n",
    "            board[tile[0], tile[1]] = player\n",
    "            move_heuristics[(tile[0], tile[1])] = calc_heuristic(board)\n",
    "            board[tile[0], tile[1]] = 0\n",
    "        #print(move_heuristics)\n",
    "        if player == 1:\n",
    "            optimal_move = max(move_heuristics, key = lambda move : move[1])\n",
    "            return (optimal_move, move_heuristics[optimal_move])\n",
    "        elif player == -1:\n",
    "            optimal_move = min(move_heuristics, key = lambda move : move[1])\n",
    "            return (optimal_move, move_heuristics[optimal_move])\n",
    "    else: # otherwise recurse further into the analysis tree\n",
    "        \n",
    "        # find all empty tiles\n",
    "        \n",
    "        empty_tiles = get_empty(board)\n",
    "        move_heuristics = {}\n",
    "        \n",
    "        # recurse further for each possible move and pick the best option\n",
    "        \n",
    "        for tile in empty_tiles:\n",
    "            board[tile[0], tile[1]] = player\n",
    "            (optimal_move, heuristic_value) = minimax(-player, board, max_depth, curr_depth + 1)\n",
    "            move_heuristics[(optimal_move[0], optimal_move[1])] = heuristic_value\n",
    "            board[tile[0], tile[1]] = 0\n",
    "        #print(move_heuristics)\n",
    "        if player == 1:\n",
    "            optimal_move = max(move_heuristics, key = lambda move : move[1])\n",
    "            return (optimal_move, move_heuristics[optimal_move])\n",
    "        elif player == -1:\n",
    "            optimal_move = min(move_heuristics, key = lambda move : move[1])\n",
    "            return (optimal_move, move_heuristics[optimal_move])\n",
    "\n",
    "start = time.time()\n",
    "minimax(1, b, 1)\n",
    "end = time.time()\n",
    "print(end - start)"
   ]
  },
  {
   "cell_type": "code",
   "execution_count": 37,
   "id": "edc17d3b",
   "metadata": {},
   "outputs": [
    {
     "data": {
      "text/plain": [
       "0"
      ]
     },
     "execution_count": 37,
     "metadata": {},
     "output_type": "execute_result"
    }
   ],
   "source": []
  }
 ],
 "metadata": {
  "kernelspec": {
   "display_name": "Python 3 (ipykernel)",
   "language": "python",
   "name": "python3"
  },
  "language_info": {
   "codemirror_mode": {
    "name": "ipython",
    "version": 3
   },
   "file_extension": ".py",
   "mimetype": "text/x-python",
   "name": "python",
   "nbconvert_exporter": "python",
   "pygments_lexer": "ipython3",
   "version": "3.10.10"
  }
 },
 "nbformat": 4,
 "nbformat_minor": 5
}
